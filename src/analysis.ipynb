{
 "cells": [
  {
   "cell_type": "markdown",
   "metadata": {},
   "source": [
    "# Analysis Notebook\n",
    "This notebook is used to analyze the trained model and the dataset. It is used to visualize the dataset and the model's performance."
   ]
  },
  {
   "cell_type": "code",
   "execution_count": null,
   "metadata": {},
   "outputs": [],
   "source": [
    "import json\n",
    "import timm\n",
    "from fastai.imports import *\n",
    "from fastai.vision.all import *\n",
    "from data import get_dls_from_images\n"
   ]
  },
  {
   "cell_type": "code",
   "execution_count": null,
   "metadata": {},
   "outputs": [],
   "source": [
    "with open(\"../config.json\", \"r\") as config_file:\n",
    "    config = json.load(config_file)\n",
    "    \n",
    "metrics_dict = {\n",
    "            \"f1_score\": F1Score(),\n",
    "            \"precision\": Precision(),\n",
    "            \"recall\": Recall(),\n",
    "            \"accuracy\": accuracy,\n",
    "        }"
   ]
  },
  {
   "cell_type": "code",
   "execution_count": null,
   "metadata": {},
   "outputs": [],
   "source": [
    "def load_saved(timm_model_name: str, model_save: str = \"output\"):\n",
    "    \"\"\"\n",
    "    Loads a saved model from disk.\n",
    "\n",
    "    Parameters\n",
    "    ----------\n",
    "    model_name : str\n",
    "        The name of the model to load, excluding `.pth`.\n",
    "\n",
    "    Returns\n",
    "    -------\n",
    "    Timm model\n",
    "        The loaded model.\n",
    "    \"\"\"\n",
    "    model = timm.create_model(\n",
    "        model_name=timm_model_name,\n",
    "        checkpoint_path=model_save,\n",
    "        num_classes=2,\n",
    "    )\n",
    "    model.eval()\n",
    "    return model\n",
    "model = load_saved(\"efficientnet_b0\", \"../output/efficientnet_b0-0.8877.pth\")"
   ]
  },
  {
   "cell_type": "code",
   "execution_count": null,
   "metadata": {},
   "outputs": [],
   "source": [
    "\n",
    "# Load the data\n",
    "config[\"data\"][\"image_dir\"] = f\"../{config['data']['image_dir']}\"\n",
    "train_dl, val_dl, test_dl = get_dls_from_images(config=config)\n",
    "dls = DataLoaders(train_dl, val_dl)\n"
   ]
  },
  {
   "cell_type": "code",
   "execution_count": null,
   "metadata": {},
   "outputs": [],
   "source": [
    "# Load the saved learner\n",
    "learn = Learner(dls, model)\n",
    "learn.path = Path(\"..\")\n",
    "learn.load(\"efficientnet_b0-0.8877-learner\")\n",
    "\n",
    "# Assuming 'learn' is your Learner and 'test_dl' is your DataLoader for the test set\n",
    "preds, targets = learn.get_preds(dl=test_dl)"
   ]
  },
  {
   "cell_type": "code",
   "execution_count": null,
   "metadata": {},
   "outputs": [],
   "source": [
    "# Convert predictions to actual class labels (assuming single-label classification)\n",
    "predicted_labels = preds.argmax(dim=1)\n",
    "\n",
    "# Find incorrect classifications\n",
    "incorrects = predicted_labels != targets\n",
    "incorrect_indices = torch.where(incorrects)[0]  # Get indices of incorrect predictions\n",
    "incorrect_images = [test_dl.dataset.items[i] for i in incorrect_indices]\n",
    "incorrect_preds = predicted_labels[incorrects]\n",
    "actual_labels = targets[incorrects]"
   ]
  },
  {
   "cell_type": "code",
   "execution_count": null,
   "metadata": {},
   "outputs": [],
   "source": [
    "import matplotlib.pyplot as plt\n",
    "\n",
    "# Label to text\n",
    "label2text = {0: \"chart\", 1: \"non-chart\"}\n",
    "\n",
    "def show_incorrect_images(incorrect_images, incorrect_preds, actual_labels, n_show=5):\n",
    "    fig, axs = plt.subplots(1, n_show, figsize=(10, 2))\n",
    "    for i, ax in enumerate(axs.flatten()):\n",
    "        img = PILImage.create(incorrect_images[i])\n",
    "        ax.imshow(img)\n",
    "        print(incorrect_images[i])\n",
    "        ax.set_title(f'Pred: {label2text[incorrect_preds[i].item()]}\\nActual: {label2text[actual_labels[i].item()]}')\n",
    "        ax.axis('off')\n",
    "    plt.show()\n",
    "\n",
    "show_incorrect_images(incorrect_images, incorrect_preds, actual_labels)\n"
   ]
  },
  {
   "cell_type": "code",
   "execution_count": null,
   "metadata": {},
   "outputs": [],
   "source": []
  }
 ],
 "metadata": {
  "kernelspec": {
   "display_name": "Thesis",
   "language": "python",
   "name": "python3"
  },
  "language_info": {
   "codemirror_mode": {
    "name": "ipython",
    "version": 3
   },
   "file_extension": ".py",
   "mimetype": "text/x-python",
   "name": "python",
   "nbconvert_exporter": "python",
   "pygments_lexer": "ipython3",
   "version": "3.9.16"
  }
 },
 "nbformat": 4,
 "nbformat_minor": 2
}
